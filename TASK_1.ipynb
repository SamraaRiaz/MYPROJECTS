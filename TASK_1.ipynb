{
  "nbformat": 4,
  "nbformat_minor": 0,
  "metadata": {
    "colab": {
      "provenance": []
    },
    "kernelspec": {
      "name": "python3",
      "display_name": "Python 3"
    },
    "language_info": {
      "name": "python"
    }
  },
  "cells": [
    {
      "cell_type": "markdown",
      "source": [
        "># **PROJECT**:**MOVIE** **GENRE** **CLASSIFICATION**"
      ],
      "metadata": {
        "id": "I6j7ZTpIVcNp"
      }
    },
    {
      "cell_type": "markdown",
      "source": [
        ">**Introduction**\n",
        "\n",
        "Here is a machine learning model that can predict the genre of a\n",
        "movie based on its plot summary or other textual information. I have used TF-IDF technique with classifiers\n",
        "such as Naive Bayes, Logistic Regression, and Support Vector\n",
        "Machines."
      ],
      "metadata": {
        "id": "--O3in2IXAna"
      }
    },
    {
      "cell_type": "markdown",
      "source": [
        ">**Load** **libraries**"
      ],
      "metadata": {
        "id": "Mr3Cd00JWk80"
      }
    },
    {
      "cell_type": "code",
      "execution_count": 5,
      "metadata": {
        "colab": {
          "base_uri": "https://localhost:8080/"
        },
        "id": "FRlHDF12gI9q",
        "outputId": "e95f2e41-2787-4103-88f6-5b5cb5a72988"
      },
      "outputs": [
        {
          "output_type": "stream",
          "name": "stderr",
          "text": [
            "[nltk_data] Downloading package punkt to /root/nltk_data...\n",
            "[nltk_data]   Package punkt is already up-to-date!\n",
            "[nltk_data] Downloading package stopwords to /root/nltk_data...\n",
            "[nltk_data]   Package stopwords is already up-to-date!\n"
          ]
        },
        {
          "output_type": "execute_result",
          "data": {
            "text/plain": [
              "True"
            ]
          },
          "metadata": {},
          "execution_count": 5
        }
      ],
      "source": [
        "import pandas as pd\n",
        "from sklearn.model_selection import train_test_split\n",
        "from nltk.corpus import stopwords\n",
        "from nltk.tokenize import word_tokenize\n",
        "from nltk.stem import PorterStemmer\n",
        "from sklearn.feature_extraction.text import TfidfVectorizer\n",
        "import numpy as np\n",
        "import matplotlib.pyplot as plt\n",
        "import warnings\n",
        "import os\n",
        "import shutil\n",
        "import nltk\n",
        "nltk.download('punkt')\n",
        "nltk.download('stopwords')"
      ]
    },
    {
      "cell_type": "markdown",
      "source": [
        "># **Data Collection**"
      ],
      "metadata": {
        "id": "LsRDdHdFXODV"
      }
    },
    {
      "cell_type": "markdown",
      "source": [
        "**Load Datasets**"
      ],
      "metadata": {
        "id": "iZmU-tV9XfZI"
      }
    },
    {
      "cell_type": "code",
      "source": [
        "train_path = \"train_data.txt\"\n",
        "train_data = pd.read_csv(train_path, sep=':::', names=['Title', 'Genre', 'Description'], engine='python')\n"
      ],
      "metadata": {
        "id": "Lk2oCvVlghsV"
      },
      "execution_count": 6,
      "outputs": []
    },
    {
      "cell_type": "code",
      "source": [
        "test_path = \"test_data.txt\"\n",
        "test_data = pd.read_csv(test_path, sep=':::', names=['Id' , 'Title', 'Description'], engine='python')"
      ],
      "metadata": {
        "id": "MmmXAut6giag"
      },
      "execution_count": 7,
      "outputs": []
    },
    {
      "cell_type": "code",
      "source": [
        "train_data.info()"
      ],
      "metadata": {
        "colab": {
          "base_uri": "https://localhost:8080/"
        },
        "id": "hO7U5h7TX_IG",
        "outputId": "9a538318-57f8-4077-dace-0b3007f734e8"
      },
      "execution_count": 8,
      "outputs": [
        {
          "output_type": "stream",
          "name": "stdout",
          "text": [
            "<class 'pandas.core.frame.DataFrame'>\n",
            "Int64Index: 7935 entries, 1 to 7935\n",
            "Data columns (total 3 columns):\n",
            " #   Column       Non-Null Count  Dtype \n",
            "---  ------       --------------  ----- \n",
            " 0   Title        7935 non-null   object\n",
            " 1   Genre        7935 non-null   object\n",
            " 2   Description  7935 non-null   object\n",
            "dtypes: object(3)\n",
            "memory usage: 248.0+ KB\n"
          ]
        }
      ]
    },
    {
      "cell_type": "code",
      "source": [
        "train_data.isnull().sum()"
      ],
      "metadata": {
        "colab": {
          "base_uri": "https://localhost:8080/"
        },
        "id": "-c_3I7BuYKVP",
        "outputId": "5fc0df93-4345-42e8-af44-8cf8c50869f4"
      },
      "execution_count": 9,
      "outputs": [
        {
          "output_type": "execute_result",
          "data": {
            "text/plain": [
              "Title          0\n",
              "Genre          0\n",
              "Description    0\n",
              "dtype: int64"
            ]
          },
          "metadata": {},
          "execution_count": 9
        }
      ]
    },
    {
      "cell_type": "code",
      "source": [
        "train_data.shape"
      ],
      "metadata": {
        "colab": {
          "base_uri": "https://localhost:8080/"
        },
        "id": "RN6i1d2mYRyr",
        "outputId": "856a13e9-1f99-436e-f09c-c8876a33db90"
      },
      "execution_count": 10,
      "outputs": [
        {
          "output_type": "execute_result",
          "data": {
            "text/plain": [
              "(7935, 3)"
            ]
          },
          "metadata": {},
          "execution_count": 10
        }
      ]
    },
    {
      "cell_type": "code",
      "source": [
        "train_data.duplicated().sum()"
      ],
      "metadata": {
        "colab": {
          "base_uri": "https://localhost:8080/"
        },
        "id": "GwVXUFybYSCZ",
        "outputId": "e752e1a0-1a07-4c72-dff4-121475a89fad"
      },
      "execution_count": 11,
      "outputs": [
        {
          "output_type": "execute_result",
          "data": {
            "text/plain": [
              "0"
            ]
          },
          "metadata": {},
          "execution_count": 11
        }
      ]
    },
    {
      "cell_type": "markdown",
      "source": [
        "  ># **Data Preprocessing**"
      ],
      "metadata": {
        "id": "S4w98dPWYZsG"
      }
    },
    {
      "cell_type": "code",
      "source": [
        "#this is function in which stopword and porterStemmer is performed\n",
        "def preprocess_text(data):\n",
        "    stop_words = set(stopwords.words(\"english\"))\n",
        "    data[\"Description\"] = data[\"Description\"].str.lower()\n",
        "    data[\"Description\"] = data[\"Description\"].apply(lambda x: \" \".join(word for word in word_tokenize(x) if word not in stop_words))\n",
        "\n",
        "    stemmer = PorterStemmer()\n",
        "    data['Description'] = data['Description'].apply(lambda x: ' '.join([stemmer.stem(word) for word in word_tokenize(x)]))\n",
        "    return data"
      ],
      "metadata": {
        "id": "xva9tVFlgi3a"
      },
      "execution_count": 12,
      "outputs": []
    },
    {
      "cell_type": "code",
      "source": [
        "#preprocess train and test data\n",
        "preprocessed_train_data = preprocess_text(train_data)\n",
        "\n",
        "preprocessed_test_data = preprocess_text(test_data)"
      ],
      "metadata": {
        "id": "5BulzhyggjUU"
      },
      "execution_count": 13,
      "outputs": []
    },
    {
      "cell_type": "markdown",
      "source": [
        "># **Data** **Exploration**"
      ],
      "metadata": {
        "id": "Znw410CtT0o5"
      }
    },
    {
      "cell_type": "code",
      "source": [
        "#Genre distribution\n",
        "import matplotlib.pyplot as plt\n",
        "\n",
        "plt.figure(figsize=(13, 7))\n",
        "genre_counts = train_data['Genre'].value_counts()\n",
        "colors = plt.cm.magma((np.linspace(0, 1, len(genre_counts))))\n",
        "plt.bar(genre_counts.index, genre_counts, color=colors)\n",
        "plt.xlabel('Genre', fontsize=11, fontweight='bold')\n",
        "plt.ylabel('Count', fontsize=11, fontweight='bold')\n",
        "plt.title('Distribution of Genres', fontsize=14, fontweight='bold')\n",
        "plt.xticks(rotation=90)\n",
        "plt.show()"
      ],
      "metadata": {
        "id": "UEvBtOzzTzoR",
        "colab": {
          "base_uri": "https://localhost:8080/",
          "height": 730
        },
        "outputId": "f49b1c74-26bd-4b0f-9ae2-32c8f3af6a1c"
      },
      "execution_count": 14,
      "outputs": [
        {
          "output_type": "display_data",
          "data": {
            "text/plain": [
              "<Figure size 1300x700 with 1 Axes>"
            ],
            "image/png": "[encoded data removed]"
          },
          "metadata": {}
        }
      ]
    },
    {
      "cell_type": "markdown",
      "source": [
        "># **Feature Extraction**"
      ],
      "metadata": {
        "id": "_k5x7GUeZjWv"
      }
    },
    {
      "cell_type": "code",
      "source": [
        "tfidf_vectorizer = TfidfVectorizer(max_features=10000)  #can adjust the number of features\n",
        "train_X = tfidf_vectorizer.fit_transform(train_data['Description'])\n",
        "test_X = tfidf_vectorizer.fit_transform(test_data['Description'])"
      ],
      "metadata": {
        "id": "OZlHQ108h-L0"
      },
      "execution_count": 15,
      "outputs": []
    },
    {
      "cell_type": "markdown",
      "source": [
        " ># **Data Splitting**"
      ],
      "metadata": {
        "id": "JItmplG-ZsCH"
      }
    },
    {
      "cell_type": "code",
      "source": [
        "X_train, X_temp, y_train, y_temp = train_test_split(train_X, train_data['Genre'], test_size=0.3, random_state=42)\n",
        "X_valid, X_test, y_valid, y_test = train_test_split(X_temp, y_temp, test_size=0.5, random_state=42)"
      ],
      "metadata": {
        "id": "4k0aV2WWh-Ug"
      },
      "execution_count": 16,
      "outputs": []
    },
    {
      "cell_type": "markdown",
      "source": [
        "># **Model Selection and Evaluation**"
      ],
      "metadata": {
        "id": "ayskrYlWa-D3"
      }
    },
    {
      "cell_type": "code",
      "source": [
        "from sklearn.model_selection import StratifiedKFold, cross_val_score\n",
        "from sklearn.naive_bayes import MultinomialNB\n",
        "from sklearn.linear_model import LogisticRegression\n",
        "from sklearn.svm import SVC\n",
        "from sklearn.ensemble import RandomForestClassifier\n",
        "\n",
        "# Create instances of the models\n",
        "nb_model = MultinomialNB()\n",
        "lr_model = LogisticRegression(max_iter=1000)\n",
        "svm_model = SVC(kernel='linear')\n",
        "rf_model = RandomForestClassifier(n_estimators=100)\n"
      ],
      "metadata": {
        "id": "c85bskj4gjvM"
      },
      "execution_count": 17,
      "outputs": []
    },
    {
      "cell_type": "markdown",
      "source": [
        "> **MEAN** **ACCURACY** (**Cross** **validation**)"
      ],
      "metadata": {
        "id": "0eyMQRvvbHwx"
      }
    },
    {
      "cell_type": "code",
      "source": [
        "# Define the number of folds (K)\n",
        "k_folds = 5\n",
        "cv = StratifiedKFold(n_splits=k_folds, shuffle=True, random_state=42)\n",
        "\n",
        "# List of models\n",
        "models = [nb_model, lr_model, svm_model, rf_model]\n",
        "\n",
        "# Dictionary to store evaluation results for each model\n",
        "model_results = {}\n",
        "\n",
        "for model in models:\n",
        "    model_name = type(model).__name__\n",
        "\n",
        "    # Perform cross-validation for the model and calculate accuracy scores\n",
        "    scores = cross_val_score(model, X_train, y_train, cv=cv, scoring='accuracy')\n",
        "\n",
        "    # Calculate mean accuracy score across folds\n",
        "    mean_accuracy = scores.mean()\n",
        "\n",
        "    # Create a model evaluation dictionary\n",
        "    evaluation_results = {\n",
        "        \"Model\": model_name,\n",
        "        \"Mean Accuracy (Cross-Validation)\": mean_accuracy\n",
        "    }\n",
        "\n",
        "    # Store the evaluation results for the model\n",
        "    model_results[model_name] = evaluation_results\n",
        "\n",
        "# Create a DataFrame with evaluation results for all models\n",
        "results_df = pd.DataFrame(list(model_results.values()))\n",
        "\n",
        "# Print the evaluation results for all models\n",
        "for _, row in results_df.iterrows():\n",
        "    print(\"Evaluation Results for\", row[\"Model\"])\n",
        "    for metric, value in row.items():\n",
        "        print(f\"{metric}: {value}\")"
      ],
      "metadata": {
        "id": "CxqQlaTpiUij",
        "colab": {
          "base_uri": "https://localhost:8080/"
        },
        "outputId": "e3b16af4-880f-4646-aec0-456d4a827fd2"
      },
      "execution_count": 18,
      "outputs": [
        {
          "output_type": "stream",
          "name": "stdout",
          "text": [
            "Evaluation Results for MultinomialNB\n",
            "Model: MultinomialNB\n",
            "Mean Accuracy (Cross-Validation): 0.427981608971708\n",
            "Evaluation Results for LogisticRegression\n",
            "Model: LogisticRegression\n",
            "Mean Accuracy (Cross-Validation): 0.4855979111424656\n",
            "Evaluation Results for SVC\n",
            "Model: SVC\n",
            "Mean Accuracy (Cross-Validation): 0.512964539697213\n",
            "Evaluation Results for RandomForestClassifier\n",
            "Model: RandomForestClassifier\n",
            "Mean Accuracy (Cross-Validation): 0.44832688674272836\n"
          ]
        }
      ]
    },
    {
      "cell_type": "markdown",
      "source": [
        ">**Best Model**"
      ],
      "metadata": {
        "id": "OSm7AkuecDe2"
      }
    },
    {
      "cell_type": "code",
      "source": [
        "best_model_name = max(model_results, key=lambda k: model_results[k][\"Mean Accuracy (Cross-Validation)\"])\n",
        "print(\"Best Model:\", best_model_name)"
      ],
      "metadata": {
        "id": "od2ufIVNuRuE",
        "colab": {
          "base_uri": "https://localhost:8080/"
        },
        "outputId": "aaeced16-d711-4db3-b5b6-69f9eeac13ce"
      },
      "execution_count": 19,
      "outputs": [
        {
          "output_type": "stream",
          "name": "stdout",
          "text": [
            "Best Model: SVC\n"
          ]
        }
      ]
    },
    {
      "cell_type": "markdown",
      "source": [
        ">**Best Model Training**"
      ],
      "metadata": {
        "id": "2m66xengcShW"
      }
    },
    {
      "cell_type": "code",
      "source": [
        "# Create a dictionary to map model names to model instances\n",
        "models = {\n",
        "    \"MultinomialNB\": MultinomialNB(),\n",
        "    \"LogisticRegression\": LogisticRegression(),\n",
        "    \"SVC\": SVC(),\n",
        "    \"RandomForestClassifier\": RandomForestClassifier()\n",
        "}\n",
        "\n",
        "# Instantiate the best model class and fit it on the entire training data\n",
        "best_model = models[best_model_name]\n",
        "best_model.fit(X_train, y_train)"
      ],
      "metadata": {
        "id": "LuQ4hW5PAyjk",
        "colab": {
          "base_uri": "https://localhost:8080/",
          "height": 75
        },
        "outputId": "c4ef602f-45c1-4674-87f1-b6b07796f4ba"
      },
      "execution_count": 20,
      "outputs": [
        {
          "output_type": "execute_result",
          "data": {
            "text/plain": [
              "SVC()"
            ],
            "text/html": [
              "<style>#sk-container-id-1 {color: black;background-color: white;}#sk-container-id-1 pre{padding: 0;}#sk-container-id-1 div.sk-toggleable {background-color: white;}#sk-container-id-1 label.sk-toggleable__label {cursor: pointer;display: block;width: 100%;margin-bottom: 0;padding: 0.3em;box-sizing: border-box;text-align: center;}#sk-container-id-1 label.sk-toggleable__label-arrow:before {content: \"▸\";float: left;margin-right: 0.25em;color: #696969;}#sk-container-id-1 label.sk-toggleable__label-arrow:hover:before {color: black;}#sk-container-id-1 div.sk-estimator:hover label.sk-toggleable__label-arrow:before {color: black;}#sk-container-id-1 div.sk-toggleable__content {max-height: 0;max-width: 0;overflow: hidden;text-align: left;background-color: #f0f8ff;}#sk-container-id-1 div.sk-toggleable__content pre {margin: 0.2em;color: black;border-radius: 0.25em;background-color: #f0f8ff;}#sk-container-id-1 input.sk-toggleable__control:checked~div.sk-toggleable__content {max-height: 200px;max-width: 100%;overflow: auto;}#sk-container-id-1 input.sk-toggleable__control:checked~label.sk-toggleable__label-arrow:before {content: \"▾\";}#sk-container-id-1 div.sk-estimator input.sk-toggleable__control:checked~label.sk-toggleable__label {background-color: #d4ebff;}#sk-container-id-1 div.sk-label input.sk-toggleable__control:checked~label.sk-toggleable__label {background-color: #d4ebff;}#sk-container-id-1 input.sk-hidden--visually {border: 0;clip: rect(1px 1px 1px 1px);clip: rect(1px, 1px, 1px, 1px);height: 1px;margin: -1px;overflow: hidden;padding: 0;position: absolute;width: 1px;}#sk-container-id-1 div.sk-estimator {font-family: monospace;background-color: #f0f8ff;border: 1px dotted black;border-radius: 0.25em;box-sizing: border-box;margin-bottom: 0.5em;}#sk-container-id-1 div.sk-estimator:hover {background-color: #d4ebff;}#sk-container-id-1 div.sk-parallel-item::after {content: \"\";width: 100%;border-bottom: 1px solid gray;flex-grow: 1;}#sk-container-id-1 div.sk-label:hover label.sk-toggleable__label {background-color: #d4ebff;}#sk-container-id-1 div.sk-serial::before {content: \"\";position: absolute;border-left: 1px solid gray;box-sizing: border-box;top: 0;bottom: 0;left: 50%;z-index: 0;}#sk-container-id-1 div.sk-serial {display: flex;flex-direction: column;align-items: center;background-color: white;padding-right: 0.2em;padding-left: 0.2em;position: relative;}#sk-container-id-1 div.sk-item {position: relative;z-index: 1;}#sk-container-id-1 div.sk-parallel {display: flex;align-items: stretch;justify-content: center;background-color: white;position: relative;}#sk-container-id-1 div.sk-item::before, #sk-container-id-1 div.sk-parallel-item::before {content: \"\";position: absolute;border-left: 1px solid gray;box-sizing: border-box;top: 0;bottom: 0;left: 50%;z-index: -1;}#sk-container-id-1 div.sk-parallel-item {display: flex;flex-direction: column;z-index: 1;position: relative;background-color: white;}#sk-container-id-1 div.sk-parallel-item:first-child::after {align-self: flex-end;width: 50%;}#sk-container-id-1 div.sk-parallel-item:last-child::after {align-self: flex-start;width: 50%;}#sk-container-id-1 div.sk-parallel-item:only-child::after {width: 0;}#sk-container-id-1 div.sk-dashed-wrapped {border: 1px dashed gray;margin: 0 0.4em 0.5em 0.4em;box-sizing: border-box;padding-bottom: 0.4em;background-color: white;}#sk-container-id-1 div.sk-label label {font-family: monospace;font-weight: bold;display: inline-block;line-height: 1.2em;}#sk-container-id-1 div.sk-label-container {text-align: center;}#sk-container-id-1 div.sk-container {/* jupyter's `normalize.less` sets `[hidden] { display: none; }` but bootstrap.min.css set `[hidden] { display: none !important; }` so we also need the `!important` here to be able to override the default hidden behavior on the sphinx rendered scikit-learn.org. See: https://github.com/scikit-learn/scikit-learn/issues/21755 */display: inline-block !important;position: relative;}#sk-container-id-1 div.sk-text-repr-fallback {display: none;}</style><div id=\"sk-container-id-1\" class=\"sk-top-container\"><div class=\"sk-text-repr-fallback\"><pre>SVC()</pre><b>In a Jupyter environment, please rerun this cell to show the HTML representation or trust the notebook. <br />On GitHub, the HTML representation is unable to render, please try loading this page with nbviewer.org.</b></div><div class=\"sk-container\" hidden><div class=\"sk-item\"><div class=\"sk-estimator sk-toggleable\"><input class=\"sk-toggleable__control sk-hidden--visually\" id=\"sk-estimator-id-1\" type=\"checkbox\" checked><label for=\"sk-estimator-id-1\" class=\"sk-toggleable__label sk-toggleable__label-arrow\">SVC</label><div class=\"sk-toggleable__content\"><pre>SVC()</pre></div></div></div></div></div>"
            ]
          },
          "metadata": {},
          "execution_count": 20
        }
      ]
    },
    {
      "cell_type": "markdown",
      "source": [
        "**Model Evaluation**"
      ],
      "metadata": {
        "id": "JmrGLCiUclR3"
      }
    },
    {
      "cell_type": "code",
      "source": [
        "from sklearn.metrics import classification_report\n",
        "\n",
        "# Use the fitted best model's predict() method to generate predictions on the test data\n",
        "y_pred = best_model.predict(X_valid)\n",
        "print(classification_report(y_valid, y_pred))"
      ],
      "metadata": {
        "id": "4K5WMS1Kvqbt",
        "colab": {
          "base_uri": "https://localhost:8080/"
        },
        "outputId": "dba4dc14-5e7a-475e-f627-dfdf1fda04b3"
      },
      "execution_count": 21,
      "outputs": [
        {
          "output_type": "stream",
          "name": "stdout",
          "text": [
            "               precision    recall  f1-score   support\n",
            "\n",
            "      action        0.00      0.00      0.00        28\n",
            "       adult        0.00      0.00      0.00        20\n",
            "   adventure        0.00      0.00      0.00        10\n",
            "   animation        0.00      0.00      0.00        10\n",
            "   biography        0.00      0.00      0.00         7\n",
            "      comedy        0.64      0.32      0.42       155\n",
            "       crime        0.00      0.00      0.00         9\n",
            " documentary        0.59      0.87      0.70       319\n",
            "       drama        0.41      0.90      0.56       287\n",
            "      family        0.00      0.00      0.00        19\n",
            "     fantasy        0.00      0.00      0.00         6\n",
            "   game-show        1.00      0.33      0.50         3\n",
            "     history        0.00      0.00      0.00         9\n",
            "      horror        1.00      0.09      0.17        44\n",
            "       music        0.00      0.00      0.00        17\n",
            "     musical        0.00      0.00      0.00         5\n",
            "     mystery        0.00      0.00      0.00         7\n",
            "        news        0.00      0.00      0.00         2\n",
            "  reality-tv        0.00      0.00      0.00        21\n",
            "     romance        0.00      0.00      0.00        11\n",
            "      sci-fi        0.00      0.00      0.00        15\n",
            "       short        0.67      0.02      0.04       103\n",
            "       sport        0.50      0.08      0.14        12\n",
            "   talk-show        0.00      0.00      0.00        10\n",
            "    thriller        0.00      0.00      0.00        34\n",
            "         war        0.00      0.00      0.00         5\n",
            "     western        1.00      0.14      0.24        22\n",
            "\n",
            "     accuracy                           0.50      1190\n",
            "    macro avg       0.22      0.10      0.10      1190\n",
            " weighted avg       0.46      0.50      0.39      1190\n",
            "\n"
          ]
        },
        {
          "output_type": "stream",
          "name": "stderr",
          "text": [
            "/usr/local/lib/python3.10/dist-packages/sklearn/metrics/_classification.py:1344: UndefinedMetricWarning: Precision and F-score are ill-defined and being set to 0.0 in labels with no predicted samples. Use `zero_division` parameter to control this behavior.\n",
            "  _warn_prf(average, modifier, msg_start, len(result))\n",
            "/usr/local/lib/python3.10/dist-packages/sklearn/metrics/_classification.py:1344: UndefinedMetricWarning: Precision and F-score are ill-defined and being set to 0.0 in labels with no predicted samples. Use `zero_division` parameter to control this behavior.\n",
            "  _warn_prf(average, modifier, msg_start, len(result))\n",
            "/usr/local/lib/python3.10/dist-packages/sklearn/metrics/_classification.py:1344: UndefinedMetricWarning: Precision and F-score are ill-defined and being set to 0.0 in labels with no predicted samples. Use `zero_division` parameter to control this behavior.\n",
            "  _warn_prf(average, modifier, msg_start, len(result))\n"
          ]
        }
      ]
    },
    {
      "cell_type": "markdown",
      "source": [
        "**Model Testing**"
      ],
      "metadata": {
        "id": "3MDTzHxmconq"
      }
    },
    {
      "cell_type": "code",
      "source": [
        "\n",
        "y_test_pred = best_model.predict(X_test)\n",
        "test_accuracy = (y_test_pred == y_test).mean()\n",
        "print(\"Test Accuracy:\", test_accuracy)"
      ],
      "metadata": {
        "id": "3Zm3EdajACMC",
        "colab": {
          "base_uri": "https://localhost:8080/"
        },
        "outputId": "5e5682c5-49e5-46e2-b4ed-8bb5f6b7135e"
      },
      "execution_count": 22,
      "outputs": [
        {
          "output_type": "stream",
          "name": "stdout",
          "text": [
            "Test Accuracy: 0.47103274559193953\n"
          ]
        }
      ]
    },
    {
      "cell_type": "markdown",
      "source": [
        "># **Make Predictions on the Test Dataset**"
      ],
      "metadata": {
        "id": "tXqIi2rdcuXU"
      }
    },
    {
      "cell_type": "code",
      "source": [
        "X_test_predictions = best_model.predict(test_X)\n",
        "test_data['Predicted_Genre'] = X_test_predictions"
      ],
      "metadata": {
        "id": "Po9z-MuExpWY"
      },
      "execution_count": 23,
      "outputs": []
    },
    {
      "cell_type": "code",
      "source": [
        "print(test_data.head())"
      ],
      "metadata": {
        "id": "K2KDgxzzvqfE",
        "colab": {
          "base_uri": "https://localhost:8080/"
        },
        "outputId": "6fccb1b1-0fba-4323-bb40-cdf13c41df59"
      },
      "execution_count": 24,
      "outputs": [
        {
          "output_type": "stream",
          "name": "stdout",
          "text": [
            "   Id                          Title  \\\n",
            "0   1          Edgar's Lunch (1998)    \n",
            "1   2      La guerra de papá (1977)    \n",
            "2   3   Off the Beaten Track (2010)    \n",
            "3   4        Meu Amigo Hindu (2015)    \n",
            "4   5             Er nu zhai (1955)    \n",
            "\n",
            "                                         Description Predicted_Genre  \n",
            "0  l.r . brane love life - car , apart , job , es...          drama   \n",
            "1  spain , march 1964 : quico naughti child three...    documentary   \n",
            "2  one year life albin famili shepherd north tran...    documentary   \n",
            "3  father die , n't spoken brother 10 year seriou...    documentary   \n",
            "4  known intern martial art superstar , bruce lee...          drama   \n"
          ]
        }
      ]
    },
    {
      "cell_type": "code",
      "source": [],
      "metadata": {
        "id": "mj1CnUZ2Ufy4"
      },
      "execution_count": 24,
      "outputs": []
    },
    {
      "cell_type": "code",
      "source": [],
      "metadata": {
        "id": "FnI56pAiq7t8"
      },
      "execution_count": 24,
      "outputs": []
    }
  ]
}